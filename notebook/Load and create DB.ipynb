{
 "cells": [
  {
   "cell_type": "code",
   "execution_count": 1,
   "metadata": {},
   "outputs": [],
   "source": [
    "import pandas as pd\n",
    "pd.set_option('display.max_columns', None)\n",
    "\n",
    "import os\n",
    "\n",
    "import mysql.connector\n",
    "from sqlalchemy import create_engine, text\n",
    "\n",
    "import warnings\n",
    "warnings.filterwarnings('ignore')\n",
    "\n",
    "import sys\n",
    "sys.path.append('../src')\n",
    "from sql_upload_manager import *"
   ]
  },
  {
   "cell_type": "code",
   "execution_count": 2,
   "metadata": {},
   "outputs": [],
   "source": [
    "files = []\n",
    "\n",
    "for archivo in os.listdir('../data'):\n",
    "        \n",
    "        if archivo.endswith('.csv'):\n",
    "            \n",
    "                file = os.path.join('../data', archivo)\n",
    "                \n",
    "                files.append((file.replace('.csv', '').replace('Anos', 'Años').replace('_', ' ').replace('../data\\\\','')))\n",
    "                "
   ]
  },
  {
   "cell_type": "code",
   "execution_count": 5,
   "metadata": {},
   "outputs": [],
   "source": [
    "key = open('password.txt','r').read()"
   ]
  },
  {
   "cell_type": "code",
   "execution_count": 6,
   "metadata": {},
   "outputs": [],
   "source": [
    "cursor = conection_to_SQL('root',key,'localhost')"
   ]
  },
  {
   "cell_type": "code",
   "execution_count": null,
   "metadata": {},
   "outputs": [],
   "source": [
    "cursor.execute('CREATE DATABASE IF NOT EXISTS VitalStatsES')"
   ]
  },
  {
   "cell_type": "code",
   "execution_count": 9,
   "metadata": {},
   "outputs": [
    {
     "data": {
      "text/plain": [
       "['Años de vida saludable al nacer',\n",
       " 'Años de vida saludable a los 65 anos',\n",
       " 'Consumo diario de frutas yo verduras en adultos',\n",
       " 'Consumo diario de frutas yo verduras en jovenes',\n",
       " 'Consumo intensivo de alcohol al menos una vez al mes en los ultimos 12 meses en jovenes',\n",
       " 'Deterioro cognitivo en 65 y mas anos',\n",
       " 'Dificultad para la movilidad en 65 y mas anos',\n",
       " 'Esperanza de vida al nacer',\n",
       " 'Esperanza de vida a los 65 anos',\n",
       " 'id',\n",
       " 'Incidencia de accidentes de trabajo',\n",
       " 'Incidencia de nuevos diagnosticos de VIH',\n",
       " 'Incidencia de tuberculosis por 100 000 hab',\n",
       " 'Indice de calidad de vida infantil relacionada con la salud',\n",
       " 'Indice de dependencia',\n",
       " 'Indice de dependencia en 65 y mas anos',\n",
       " 'Indice de dependencia juvenil',\n",
       " 'Ingresos medios por persona euros',\n",
       " 'Limitacion para la realizacion de actividades relacionadas con el hogar en 65 y mas anos',\n",
       " 'Numero de victimas mortales de accidentes de trafico',\n",
       " 'Numero de victimas no mortales de accidente de trafico',\n",
       " 'Porcentaje de bebedores de riesgo de alcohol',\n",
       " 'Porcentaje de consumidores de cannabis en escolares adolescentes de 14 a 18 anos',\n",
       " 'Porcentaje de la poblacion que declara escasez de zonas verdes en el entorno de su vivienda',\n",
       " 'Porcentaje de la poblacion que declara que el ruido procedente del exterior de su vivienda es molesto',\n",
       " 'Porcentaje de poblacion adulta en riesgo de mala salud mental',\n",
       " 'Porcentaje de poblacion con valoracion positiva de su estado de salud',\n",
       " 'Porcentaje de poblacion de 65 anos y mas anos con valoracion positiva de su estado de salud',\n",
       " 'Porcentaje de poblacion de clase social baja',\n",
       " 'Porcentaje de poblacion que recibe suministro con Cobertura del Sistema Nacional de Aguas de Consumo',\n",
       " 'Porcentaje de recien nacidos a termino con bajo peso',\n",
       " 'Prevalencia de consumo de tabaco en poblacion adulta',\n",
       " 'Prevalencia de consumo diario de tabaco en jovenes',\n",
       " 'Prevalencia de obesidad en poblacion de 18 y mas anos',\n",
       " 'Prevalencia de obesidad en poblacion infantil',\n",
       " 'Prevalencia de sedentarismo en jovenes',\n",
       " 'Prevalencia de sedentarismo en poblacion adulta',\n",
       " 'Prevalencia registrada de cardiopatia isquemica en poblacion de 40 y mas anos',\n",
       " 'Prevalencia registrada de diabetes mellitus en poblacion general',\n",
       " 'Prevalencia registrada de EPOC en poblacion de 40 y mas anos',\n",
       " 'Prevalencia registrada de hipertension arterial en poblacion general',\n",
       " 'Prevalencia registrada de sindromes dolorosos de columna vertebral en poblacion general',\n",
       " 'Prevalencia registrada de trastornos mentales en poblacion general',\n",
       " 'Proporcion de poblacion de 25 a 64 anos con nivel de estudios de 1 Etapa de educacion secundaria o inferior',\n",
       " 'Tasa ajustada de hospitalizacion por asma por 10 000 hab',\n",
       " 'Tasa ajustada de hospitalizacion por diabetes mellitus por 10 000 hab',\n",
       " 'Tasa ajustada de hospitalizacion por enfermedades cerebrovasculares por 10 000 hab',\n",
       " 'Tasa ajustada de hospitalizacion por enfermedad hipertensiva por 10 000 hab',\n",
       " 'Tasa ajustada de hospitalizacion por EPOC por 10 000 hab',\n",
       " 'Tasa ajustada de hospitalizacion por infarto agudo de miocardio por 10 000 hab',\n",
       " 'Tasa ajustada de hospitalizacion por Insuficiencia cardiaca congestiva por 10 000 hab',\n",
       " 'Tasa bruta de hospitalizacion por enfermedades cerebrovasculares por 10 000 hab',\n",
       " 'Tasa bruta de hospitalizacion por infarto agudo de miocardio por 10 000 hab',\n",
       " 'Tasa de desempleo en menores de 25 anos',\n",
       " 'Tasa de desempleo total',\n",
       " 'Tasa de mortalidad ajustada por edad por cancer por 100 000 hab',\n",
       " 'Tasa de mortalidad ajustada por edad por cardiopatia isquemica por 100 000 hab',\n",
       " 'Tasa de mortalidad ajustada por edad por diabetes mellitus por 100 000 hab',\n",
       " 'Tasa de mortalidad ajustada por edad por enfermedad cerebrovascular por 100 000 hab',\n",
       " 'Tasa de mortalidad ajustada por edad por enfermedad cronica del higado por 100 000 hab',\n",
       " 'Tasa de mortalidad ajustada por edad por enfermedad pulmonar obstructiva cronica por 100 000 hab',\n",
       " 'Tasa de mortalidad ajustada por edad por neumonia e influenza por 100 000 hab',\n",
       " 'Tasa de mortalidad ajustada por edad por suicidio por 100 000 hab',\n",
       " 'Tasa de mortalidad infantil por 1000 nacidos vivos',\n",
       " 'Tasa de mortalidad prematura por cancer ajustada por edad por 100 000 hab',\n",
       " 'Tasa de mortalidad prematura por cardiopatia isquemica ajustada por edad por 100 000 hab',\n",
       " 'Tasa de mortalidad prematura por diabetes mellitus ajustada por edad por 100 000 hab',\n",
       " 'Tasa de mortalidad prematura por enfermedad vascular cerebral ajustada por edad por 100 000 hab',\n",
       " 'Tasa de mortalidad prematura por EPOC ajustada por edad por 100 000 hab',\n",
       " 'Tasa de natalidad por 1000 habitantes',\n",
       " 'Tasa de riesgo de pobreza indicador AROPE']"
      ]
     },
     "execution_count": 9,
     "metadata": {},
     "output_type": "execute_result"
    }
   ],
   "source": [
    "for file in files:\n",
    "    if file == 'id':\n",
    "        add_table(file,'primary','VitalStatsES'\n",
    "                  )"
   ]
  }
 ],
 "metadata": {
  "kernelspec": {
   "display_name": "clase",
   "language": "python",
   "name": "python3"
  },
  "language_info": {
   "codemirror_mode": {
    "name": "ipython",
    "version": 3
   },
   "file_extension": ".py",
   "mimetype": "text/x-python",
   "name": "python",
   "nbconvert_exporter": "python",
   "pygments_lexer": "ipython3",
   "version": "3.11.5"
  }
 },
 "nbformat": 4,
 "nbformat_minor": 2
}
