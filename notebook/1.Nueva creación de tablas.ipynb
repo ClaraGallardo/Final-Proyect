{
 "cells": [
  {
   "cell_type": "code",
   "execution_count": 3,
   "metadata": {},
   "outputs": [],
   "source": [
    "import pandas as pd\n",
    "\n",
    "import os"
   ]
  },
  {
   "cell_type": "code",
   "execution_count": 4,
   "metadata": {},
   "outputs": [],
   "source": [
    "files = []\n",
    "\n",
    "for archivo in os.listdir('../data/raw'):\n",
    "        \n",
    "        if archivo.endswith('.xls'):\n",
    "            \n",
    "                file = os.path.join('../data', archivo)\n",
    "                \n",
    "                files.append((file.replace('.xls', '').replace('../data\\\\','')))"
   ]
  },
  {
   "cell_type": "code",
   "execution_count": 5,
   "metadata": {},
   "outputs": [
    {
     "data": {
      "text/plain": [
       "['Anos_de_vida_saludable_al_nacer',\n",
       " 'Anos_de_vida_saludable_a_los_65_anos',\n",
       " 'Consumo_diario_de_frutas_yo_verduras_en_adultos',\n",
       " 'Consumo_diario_de_frutas_yo_verduras_en_jovenes',\n",
       " 'Consumo_intensivo_de_alcohol_al_menos_una_vez_al_mes_en_los_ultimos_12_meses_en_jovenes',\n",
       " 'Deterioro_cognitivo_en_65_y_mas_anos',\n",
       " 'Dificultad_para_la_movilidad_en_65_y_mas_anos',\n",
       " 'Esperanza_de_vida_al_nacer',\n",
       " 'Esperanza_de_vida_a_los_65_anos',\n",
       " 'Incidencia_de_accidentes_de_trabajo',\n",
       " 'Incidencia_de_nuevos_diagnosticos_de_VIH',\n",
       " 'Incidencia_de_tuberculosis_por_100_000_hab',\n",
       " 'Indice_de_calidad_de_vida_infantil_relacionada_con_la_salud',\n",
       " 'Indice_de_dependencia',\n",
       " 'Indice_de_dependencia_en_65_y_mas_anos',\n",
       " 'Indice_de_dependencia_juvenil',\n",
       " 'Ingresos_medios_por_persona_euros',\n",
       " 'Limitacion_para_la_realizacion_de_actividades_relacionadas_con_el_hogar_en_65_y_mas_anos',\n",
       " 'Numero_de_victimas_mortales_de_accidentes_de_trafico',\n",
       " 'Numero_de_victimas_no_mortales_de_accidente_de_trafico',\n",
       " 'Porcentaje_de_bebedores_de_riesgo_de_alcohol',\n",
       " 'Porcentaje_de_consumidores_de_cannabis_en_escolares_adolescentes_de_14_a_18_anos',\n",
       " 'Porcentaje_de_la_poblacion_que_declara_escasez_de_zonas_verdes_en_el_entorno_de_su_vivienda',\n",
       " 'Porcentaje_de_la_poblacion_que_declara_que_el_ruido_procedente_del_exterior_de_su_vivienda_es_molesto',\n",
       " 'Porcentaje_de_poblacion_adulta_en_riesgo_de_mala_salud_mental',\n",
       " 'Porcentaje_de_poblacion_con_valoracion_positiva_de_su_estado_de_salud',\n",
       " 'Porcentaje_de_poblacion_de_65_anos_y_mas_anos_con_valoracion_positiva_de_su_estado_de_salud',\n",
       " 'Porcentaje_de_poblacion_de_clase_social_baja',\n",
       " 'Porcentaje_de_poblacion_que_recibe_suministro_con_Cobertura_del_Sistema_Nacional_de_Aguas_de_Consumo',\n",
       " 'Porcentaje_de_recien_nacidos_a_termino_con_bajo_peso',\n",
       " 'Prevalencia_de_consumo_de_tabaco_en_poblacion_adulta',\n",
       " 'Prevalencia_de_consumo_diario_de_tabaco_en_jovenes',\n",
       " 'Prevalencia_de_obesidad_en_poblacion_de_18_y_mas_anos',\n",
       " 'Prevalencia_de_obesidad_en_poblacion_infantil',\n",
       " 'Prevalencia_de_sedentarismo_en_jovenes',\n",
       " 'Prevalencia_de_sedentarismo_en_poblacion_adulta',\n",
       " 'Prevalencia_registrada_de_cardiopatia_isquemica_en_poblacion_de_40_y_mas_anos',\n",
       " 'Prevalencia_registrada_de_diabetes_mellitus_en_poblacion_general',\n",
       " 'Prevalencia_registrada_de_EPOC_en_poblacion_de_40_y_mas_anos',\n",
       " 'Prevalencia_registrada_de_hipertension_arterial_en_poblacion_general',\n",
       " 'Prevalencia_registrada_de_sindromes_dolorosos_de_columna_vertebral_en_poblacion_general',\n",
       " 'Prevalencia_registrada_de_trastornos_mentales_en_poblacion_general',\n",
       " 'Proporcion_de_poblacion_de_25_a_64_anos_con_nivel_de_estudios_de_1_Etapa_de_educacion_secundaria_o_inferior',\n",
       " 'Tasa_ajustada_de_hospitalizacion_por_asma_por_10_000_hab',\n",
       " 'Tasa_ajustada_de_hospitalizacion_por_diabetes_mellitus_por_10_000_hab',\n",
       " 'Tasa_ajustada_de_hospitalizacion_por_enfermedades_cerebrovasculares_por_10_000_hab',\n",
       " 'Tasa_ajustada_de_hospitalizacion_por_enfermedad_hipertensiva_por_10_000_hab',\n",
       " 'Tasa_ajustada_de_hospitalizacion_por_EPOC_por_10_000_hab',\n",
       " 'Tasa_ajustada_de_hospitalizacion_por_infarto_agudo_de_miocardio_por_10_000_hab',\n",
       " 'Tasa_ajustada_de_hospitalizacion_por_Insuficiencia_cardiaca_congestiva_por_10_000_hab',\n",
       " 'Tasa_bruta_de_hospitalizacion_por_enfermedades_cerebrovasculares_por_10_000_hab',\n",
       " 'Tasa_bruta_de_hospitalizacion_por_infarto_agudo_de_miocardio_por_10_000_hab',\n",
       " 'Tasa_de_desempleo_en_menores_de_25_anos',\n",
       " 'Tasa_de_desempleo_total',\n",
       " 'Tasa_de_mortalidad_ajustada_por_edad_por_cancer_por_100_000_hab',\n",
       " 'Tasa_de_mortalidad_ajustada_por_edad_por_cardiopatia_isquemica_por_100_000_hab',\n",
       " 'Tasa_de_mortalidad_ajustada_por_edad_por_diabetes_mellitus_por_100_000_hab',\n",
       " 'Tasa_de_mortalidad_ajustada_por_edad_por_enfermedad_cerebrovascular_por_100_000_hab',\n",
       " 'Tasa_de_mortalidad_ajustada_por_edad_por_enfermedad_cronica_del_higado_por_100_000_hab',\n",
       " 'Tasa_de_mortalidad_ajustada_por_edad_por_enfermedad_pulmonar_obstructiva_cronica_por_100_000_hab',\n",
       " 'Tasa_de_mortalidad_ajustada_por_edad_por_neumonia_e_influenza_por_100_000_hab',\n",
       " 'Tasa_de_mortalidad_ajustada_por_edad_por_suicidio_por_100_000_hab',\n",
       " 'Tasa_de_mortalidad_infantil_por_1000_nacidos_vivos',\n",
       " 'Tasa_de_mortalidad_prematura_por_cancer_ajustada_por_edad_por_100_000_hab',\n",
       " 'Tasa_de_mortalidad_prematura_por_cardiopatia_isquemica_ajustada_por_edad_por_100_000_hab',\n",
       " 'Tasa_de_mortalidad_prematura_por_diabetes_mellitus_ajustada_por_edad_por_100_000_hab',\n",
       " 'Tasa_de_mortalidad_prematura_por_enfermedad_vascular_cerebral_ajustada_por_edad_por_100_000_hab',\n",
       " 'Tasa_de_mortalidad_prematura_por_EPOC_ajustada_por_edad_por_100_000_hab',\n",
       " 'Tasa_de_natalidad_por_1000_habitantes',\n",
       " 'Tasa_de_riesgo_de_pobreza_indicador_AROPE']"
      ]
     },
     "execution_count": 5,
     "metadata": {},
     "output_type": "execute_result"
    }
   ],
   "source": [
    "files"
   ]
  }
 ],
 "metadata": {
  "kernelspec": {
   "display_name": "clase",
   "language": "python",
   "name": "python3"
  },
  "language_info": {
   "codemirror_mode": {
    "name": "ipython",
    "version": 3
   },
   "file_extension": ".py",
   "mimetype": "text/x-python",
   "name": "python",
   "nbconvert_exporter": "python",
   "pygments_lexer": "ipython3",
   "version": "3.11.5"
  }
 },
 "nbformat": 4,
 "nbformat_minor": 2
}
