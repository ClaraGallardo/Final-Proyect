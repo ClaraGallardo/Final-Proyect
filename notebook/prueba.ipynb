{
 "cells": [
  {
   "cell_type": "code",
   "execution_count": 7,
   "metadata": {},
   "outputs": [],
   "source": [
    "import pandas as pd\n",
    "\n",
    "import os\n",
    "import sys\n",
    "sys.path.append('../src')\n",
    "from clean_data import *"
   ]
  },
  {
   "cell_type": "code",
   "execution_count": 8,
   "metadata": {},
   "outputs": [],
   "source": [
    "# def nuevos_df(df):\n",
    "    \n",
    "#     # Verifica si alguna de las columnas contiene la palabra 'Hombre' para localizar los df diferentes:\n",
    "    \n",
    "#     if all('Hombre' not in col for col in df.columns):\n",
    "        \n",
    "#         df_new = pd.DataFrame(columns=['Region', 'Año', 'Total'])\n",
    "        \n",
    "#         years = set(col.split('_')[0] for col in df.columns if '_' in col)  # cogemos año \n",
    "        \n",
    "#         for year in years:\n",
    "            \n",
    "#             if f'{year}_Total' in df.columns:\n",
    "                \n",
    "#                 df_year = df[['Region', f'{year}_Total']].copy()\n",
    "                                \n",
    "#                 df_year.columns = ['Region', 'Total']\n",
    "#                 df_year['Año'] = year\n",
    "#                 df_new = pd.concat([df_new, df_year], ignore_index=True)\n",
    "                \n",
    "#     else:\n",
    "        \n",
    "#         df_new = pd.DataFrame(columns=['Region', 'Año', 'Hombre', 'Mujer', 'Total'])\n",
    "       \n",
    "#         years = set(col.split('_')[0] for col in df.columns if '_' in col)  # cogemos año \n",
    "    \n",
    "#         for year in years:\n",
    "        \n",
    "#             if f'{year}_Hombres' in df.columns and f'{year}_Mujeres' in df.columns and f'{year}_Total' in df.columns:\n",
    "            \n",
    "#                 df_year = df[['Region', f'{year}_Hombres', f'{year}_Mujeres', f'{year}_Total']].copy()\n",
    "#                 df_year.columns = ['Region', 'Hombre', 'Mujer', 'Total']\n",
    "#                 df_year['Año'] = year\n",
    "#                 df_new = pd.concat([df_new, df_year], ignore_index=True)\n",
    "                \n",
    "#     return df_new"
   ]
  },
  {
   "cell_type": "code",
   "execution_count": 10,
   "metadata": {},
   "outputs": [
    {
     "data": {
      "text/html": [
       "<div>\n",
       "<style scoped>\n",
       "    .dataframe tbody tr th:only-of-type {\n",
       "        vertical-align: middle;\n",
       "    }\n",
       "\n",
       "    .dataframe tbody tr th {\n",
       "        vertical-align: top;\n",
       "    }\n",
       "\n",
       "    .dataframe thead th {\n",
       "        text-align: right;\n",
       "    }\n",
       "</style>\n",
       "<table border=\"1\" class=\"dataframe\">\n",
       "  <thead>\n",
       "    <tr style=\"text-align: right;\">\n",
       "      <th></th>\n",
       "      <th>Region</th>\n",
       "      <th>Año</th>\n",
       "      <th>Total</th>\n",
       "    </tr>\n",
       "  </thead>\n",
       "  <tbody>\n",
       "    <tr>\n",
       "      <th>0</th>\n",
       "      <td>España (ES)</td>\n",
       "      <td>2020</td>\n",
       "      <td>7.58</td>\n",
       "    </tr>\n",
       "    <tr>\n",
       "      <th>1</th>\n",
       "      <td>Andalucía (AN)</td>\n",
       "      <td>2020</td>\n",
       "      <td>5.93</td>\n",
       "    </tr>\n",
       "    <tr>\n",
       "      <th>2</th>\n",
       "      <td>Aragón (AR)</td>\n",
       "      <td>2020</td>\n",
       "      <td>6.31</td>\n",
       "    </tr>\n",
       "    <tr>\n",
       "      <th>3</th>\n",
       "      <td>Asturias, Principado de (AS)</td>\n",
       "      <td>2020</td>\n",
       "      <td>11.72</td>\n",
       "    </tr>\n",
       "    <tr>\n",
       "      <th>4</th>\n",
       "      <td>Balears, Illes (IB)</td>\n",
       "      <td>2020</td>\n",
       "      <td>6.09</td>\n",
       "    </tr>\n",
       "  </tbody>\n",
       "</table>\n",
       "</div>"
      ],
      "text/plain": [
       "                         Region   Año  Total\n",
       "0                   España (ES)  2020   7.58\n",
       "1                Andalucía (AN)  2020   5.93\n",
       "2                   Aragón (AR)  2020   6.31\n",
       "3  Asturias, Principado de (AS)  2020  11.72\n",
       "4           Balears, Illes (IB)  2020   6.09"
      ]
     },
     "execution_count": 10,
     "metadata": {},
     "output_type": "execute_result"
    }
   ],
   "source": [
    "df = pd.read_excel('../data/Incidencia_de_tuberculosis_por_100_000_hab.xls')\n",
    "test = clean_columns(df)\n",
    "final = nuevos_df(test)\n",
    "final.head()"
   ]
  },
  {
   "cell_type": "code",
   "execution_count": 4,
   "metadata": {},
   "outputs": [],
   "source": [
    "process_excel_files('../data')"
   ]
  }
 ],
 "metadata": {
  "kernelspec": {
   "display_name": "clase",
   "language": "python",
   "name": "python3"
  },
  "language_info": {
   "codemirror_mode": {
    "name": "ipython",
    "version": 3
   },
   "file_extension": ".py",
   "mimetype": "text/x-python",
   "name": "python",
   "nbconvert_exporter": "python",
   "pygments_lexer": "ipython3",
   "version": "3.11.5"
  }
 },
 "nbformat": 4,
 "nbformat_minor": 2
}
