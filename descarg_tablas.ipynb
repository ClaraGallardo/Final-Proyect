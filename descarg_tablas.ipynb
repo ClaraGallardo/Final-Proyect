{
 "cells": [
  {
   "cell_type": "code",
   "execution_count": 8,
   "metadata": {},
   "outputs": [],
   "source": [
    "import pandas as pd\n",
    "\n",
    "from selenium import webdriver\n",
    "from webdriver_manager.chrome import ChromeDriverManager\n",
    "from selenium.webdriver.common.by import By\n",
    "\n",
    "import time\n",
    "\n",
    "import warnings\n",
    "warnings.filterwarnings('ignore')\n",
    "\n",
    "from selenium.webdriver.common.by import By\n",
    "from selenium.webdriver.firefox.options import Options\n",
    "from selenium.common.exceptions import NoSuchElementException\n",
    "\n",
    "from src import funciones\n"
   ]
  },
  {
   "cell_type": "code",
   "execution_count": 26,
   "metadata": {},
   "outputs": [],
   "source": [
    "# PAGINA PPAL SELECCION datos DE SCRAPEO:\n",
    "\n",
    "PATH = \"driver/chromedriver.exe\"\n",
    "driver = webdriver.Chrome()\n",
    "\n",
    "url = 'https://inclasns.sanidad.gob.es/main.html' \n",
    "\n",
    "driver.get(url)\n",
    "\n",
    "time.sleep(4)   \n",
    "\n",
    "#  SELECCION CAMPOS  \n",
    "\n",
    "x_path = '//*[@id=\"aceptarCookie\"]'    # Aceptar cookies\n",
    "\n",
    "driver.find_element(By.XPATH, x_path).click()\n",
    "\n",
    "time.sleep(1)\n",
    "\n",
    "x_path = '//*[@id=\"ui-id-1\"]/span[2]'   # Bienestar\n",
    "\n",
    "driver.find_element(By.XPATH, x_path).click()\n",
    "\n",
    "time.sleep(1)\n",
    "\n",
    "x_path = '//*[@id=\"ui-id-3\"]/span[2]'   # Enfermedad\n",
    "\n",
    "driver.find_element(By.XPATH, x_path).click()\n",
    "\n",
    "time.sleep(1)\n",
    "\n",
    "x_path = '//*[@id=\"ui-id-5\"]/span[2]'   # Mortalidad\n",
    "\n",
    "driver.find_element(By.XPATH, x_path).click()\n",
    "\n",
    "time.sleep(1)\n",
    "\n",
    "x_path = '//*[@id=\"ui-id-7\"]/span[2]'   # Determinantes socioeconomicos \n",
    "\n",
    "driver.find_element(By.XPATH, x_path).click()\n",
    "\n",
    "time.sleep(1)\n",
    "\n",
    "x_path = '//*[@id=\"ui-id-9\"]/span[2]'   # Estilo de vida\n",
    "\n",
    "driver.find_element(By.XPATH, x_path).click()\n",
    "\n",
    "time.sleep(1)\n",
    "\n",
    "x_path = '//*[@id=\"ui-id-11\"]/span[2]'   # Estilo de vida\n",
    "\n",
    "driver.find_element(By.XPATH, x_path).click()\n",
    "\n",
    "time.sleep(1)\n",
    "\n",
    "x_path = '//*[@id=\"ui-id-26\"]'   # despleglable Años\n",
    "\n",
    "driver.find_element(By.XPATH, x_path).click()\n",
    "\n",
    "time.sleep(1)\n",
    "\n",
    "x_path = '//*[@id=\"year\"]/label[28]'   # 2017 \n",
    "\n",
    "driver.find_element(By.XPATH, x_path).click()\n",
    "\n",
    "time.sleep(1)\n",
    "\n",
    "x_path = '//*[@id=\"year\"]/label[29]'   # 2018  //*[@id=\"year\"]/label[29]\n",
    "\n",
    "driver.find_element(By.XPATH, x_path).click()\n",
    "\n",
    "time.sleep(1)\n",
    "\n",
    "x_path = '//*[@id=\"year\"]/label[30]'   # 2019 //*[@id=\"year\"]/label[30]\n",
    "\n",
    "driver.find_element(By.XPATH, x_path).click()\n",
    "\n",
    "time.sleep(1)\n",
    "\n",
    "x_path = '//*[@id=\"year\"]/label[31]'   # 2020 //*[@id=\"year\"]/label[31]\n",
    "\n",
    "driver.find_element(By.XPATH, x_path).click()\n",
    "\n",
    "time.sleep(1)\n",
    "\n",
    "x_path = '//*[@id=\"year\"]/label[32]'   # 2021 //*[@id=\"year\"]/label[32]\n",
    "\n",
    "driver.find_element(By.XPATH, x_path).click()\n",
    "\n",
    "time.sleep(1)\n",
    "\n",
    "x_path = '//*[@id=\"year\"]/label[34]' #\n",
    "\n",
    "driver.find_element(By.XPATH, x_path).click()\n",
    "\n",
    "time.sleep(1)\n",
    "\n",
    "x_path = '//*[@id=\"selection\"]/a[1]'   # Comenzar análisis\n",
    "\n",
    "driver.find_element(By.XPATH, x_path).click()\n",
    "\n",
    "time.sleep(4)\n"
   ]
  },
  {
   "cell_type": "code",
   "execution_count": 27,
   "metadata": {},
   "outputs": [],
   "source": [
    "driver.find_element(By.XPATH, '/html/body/div[1]/div[4]/div/div[4]/div[2]/div[1]/div/div/div[2]/span[2]').click() # DESCARGA EXCEL\n",
    "                               #/html/body/div[1]/div[4]/div/div[4]/div[2]/div[2]/div/div/div[2]/span[2] "
   ]
  },
  {
   "cell_type": "code",
   "execution_count": 28,
   "metadata": {},
   "outputs": [
    {
     "data": {
      "text/plain": [
       "'Esperanza de vida al nacer'"
      ]
     },
     "execution_count": 28,
     "metadata": {},
     "output_type": "execute_result"
    }
   ],
   "source": [
    "driver.find_element(By.XPATH, '/html/body/div[1]/div[4]/div/div[4]/div[2]/div[1]/div/div/table/caption').text # NOMBRE EXCCEL\n",
    "                                #/html/body/div[1]/div[4]/div/div[4]/div[2]/div[2]/div/div/table/caption"
   ]
  },
  {
   "cell_type": "code",
   "execution_count": 29,
   "metadata": {},
   "outputs": [],
   "source": [
    "driver.find_element(By.XPATH, '/html/body/div[1]/div[4]/div/div[4]/div[2]/ul/li[2]/a').click() # CLICK SIGUIENTE\n",
    "                                # /html/body/div[1]/div[4]/div/div[4]/div[2]/ul/li[3]"
   ]
  },
  {
   "cell_type": "code",
   "execution_count": null,
   "metadata": {},
   "outputs": [],
   "source": [
    "lista = []\n",
    "\n",
    "nombre = driver.find_element(By.XPATH, '/html/body/div[1]/div[4]/div/div[4]/div[2]/div[1]/div/div/table/caption').text\n",
    "                                    # /html/body/div[1]/div[4]/div/div[4]/div[2]/div[2]/div/div/table\n",
    "lista.append(nombre)"
   ]
  },
  {
   "cell_type": "code",
   "execution_count": 13,
   "metadata": {},
   "outputs": [],
   "source": [
    "# CREAR FUNCION PARA CLINK DESCARGA EXCEL, AÑADE NOMBRE DE TABLA EN LISTA TABLAS Y CLICK SIGUIENTE:\n",
    "\n",
    "# Ya estamos en la pag con los campos seleccionados,click descarga excel:\n",
    "\n",
    "boton_excel = driver.find_element(By.XPATH, '/html/body/div[1]/div[4]/div/div[4]/div[2]/div[1]/div/div/div[2]/span[2]').click()\n",
    "\n",
    "nombre = driver.find_element(By.XPATH, '/html/body/div[1]/div[4]/div/div[4]/div[2]/div[1]/div/div/table/caption').text\n",
    "\n"
   ]
  },
  {
   "cell_type": "code",
   "execution_count": 30,
   "metadata": {},
   "outputs": [
    {
     "data": {
      "text/plain": [
       "'Esperanza de vida al nacer'"
      ]
     },
     "execution_count": 30,
     "metadata": {},
     "output_type": "execute_result"
    }
   ],
   "source": [
    "nombre  # a esto hya que añadir barra baja en los espacios y terminar con un .xlxs"
   ]
  }
 ],
 "metadata": {
  "kernelspec": {
   "display_name": "clase",
   "language": "python",
   "name": "python3"
  },
  "language_info": {
   "codemirror_mode": {
    "name": "ipython",
    "version": 3
   },
   "file_extension": ".py",
   "mimetype": "text/x-python",
   "name": "python",
   "nbconvert_exporter": "python",
   "pygments_lexer": "ipython3",
   "version": "3.11.5"
  }
 },
 "nbformat": 4,
 "nbformat_minor": 2
}
