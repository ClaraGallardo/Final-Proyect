{
 "cells": [
  {
   "cell_type": "code",
   "execution_count": null,
   "metadata": {},
   "outputs": [],
   "source": [
    "import pandas as pd\n",
    "pd.set_option('display.max_columns', None)\n",
    "\n",
    "import numpy as np\n",
    "\n",
    "import mysql.connector\n",
    "from sqlalchemy import create_engine, text\n",
    "\n",
    "import warnings\n",
    "warnings.filterwarnings('ignore')\n",
    "\n",
    "import sys\n",
    "sys.path.insert(1, '../')\n",
    "\n",
    "import os"
   ]
  },
  {
   "cell_type": "code",
   "execution_count": null,
   "metadata": {},
   "outputs": [],
   "source": [
    "def csv_load(ruta_carpeta):\n",
    "   \n",
    "    dataframes = []\n",
    "\n",
    "    for archivo in os.listdir(ruta_carpeta):\n",
    "        \n",
    "        if archivo.endswith('.csv'):\n",
    "            \n",
    "            path = os.path.join(ruta_carpeta, archivo)\n",
    "\n",
    "            df = pd.read_csv(path)\n",
    "            \n",
    "            dataframes.append((archivo.replace('.csv', ''), df))\n",
    "\n",
    "    return dataframes\n",
    "\n",
    "lista_dataframes = csv_load('../data')\n",
    "\n",
    "names_df = []\n",
    "dataframes = []\n",
    "\n",
    "for nombre, df in lista_dataframes:\n",
    "    names.append(nombre)\n",
    "    dataframes.append(df)"
   ]
  },
  {
   "cell_type": "code",
   "execution_count": null,
   "metadata": {},
   "outputs": [],
   "source": [
    "# funcion\n"
   ]
  },
  {
   "cell_type": "code",
   "execution_count": null,
   "metadata": {},
   "outputs": [],
   "source": []
  }
 ],
 "metadata": {
  "kernelspec": {
   "display_name": "clase",
   "language": "python",
   "name": "python3"
  },
  "language_info": {
   "name": "python",
   "version": "3.11.5"
  }
 },
 "nbformat": 4,
 "nbformat_minor": 2
}
