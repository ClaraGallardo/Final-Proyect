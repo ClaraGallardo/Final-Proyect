{
 "cells": [
  {
   "cell_type": "code",
   "execution_count": 49,
   "metadata": {},
   "outputs": [],
   "source": [
    "import pandas as pd\n",
    "\n",
    "from selenium import webdriver\n",
    "from webdriver_manager.chrome import ChromeDriverManager\n",
    "from selenium.webdriver.common.by import By\n",
    "\n",
    "import time\n",
    "\n",
    "import warnings\n",
    "warnings.filterwarnings('ignore')\n",
    "\n",
    "from selenium.webdriver.common.by import By\n",
    "from selenium.webdriver.firefox.options import Options\n",
    "from selenium.common.exceptions import NoSuchElementException"
   ]
  },
  {
   "cell_type": "code",
   "execution_count": 50,
   "metadata": {},
   "outputs": [],
   "source": [
    "PATH = \"driver/chromedriver.exe\"\n",
    "driver = webdriver.Chrome()\n",
    "\n",
    "# PAGINA PPAL SELECCION datos DE SCRAPEO:\n",
    "\n",
    "url = 'https://inclasns.sanidad.gob.es/main.html' \n",
    "\n",
    "driver.get(url)"
   ]
  },
  {
   "cell_type": "code",
   "execution_count": 109,
   "metadata": {},
   "outputs": [],
   "source": [
    "url = 'https://inclasns.sanidad.gob.es/main.html' \n",
    "\n",
    "descarga(url)"
   ]
  },
  {
   "cell_type": "code",
   "execution_count": 51,
   "metadata": {},
   "outputs": [],
   "source": [
    "# PAGINA PPAL SELECCION datos DE SCRAPEO:\n",
    "\n",
    "PATH = \"driver/chromedriver.exe\"\n",
    "driver = webdriver.Chrome()\n",
    "\n",
    "url = 'https://inclasns.sanidad.gob.es/main.html' \n",
    "\n",
    "driver.get(url)\n",
    "\n",
    "time.sleep(4)   \n",
    "\n",
    "#  SELECCION CAMPOS  \n",
    "\n",
    "x_path = '//*[@id=\"aceptarCookie\"]'    # Aceptar cookies\n",
    "\n",
    "driver.find_element(By.XPATH, x_path).click()\n",
    "\n",
    "time.sleep(1)\n",
    "\n",
    "x_path = '//*[@id=\"ui-id-1\"]/span[2]'   # Bienestar\n",
    "\n",
    "driver.find_element(By.XPATH, x_path).click()\n",
    "\n",
    "time.sleep(1)\n",
    "\n",
    "x_path = '//*[@id=\"ui-id-3\"]/span[2]'   # Enfermedad\n",
    "\n",
    "driver.find_element(By.XPATH, x_path).click()\n",
    "\n",
    "time.sleep(1)\n",
    "\n",
    "x_path = '//*[@id=\"ui-id-5\"]/span[2]'   # Mortalidad\n",
    "\n",
    "driver.find_element(By.XPATH, x_path).click()\n",
    "\n",
    "time.sleep(1)\n",
    "\n",
    "x_path = '//*[@id=\"ui-id-7\"]/span[2]'   # Determinantes socioeconomicos \n",
    "\n",
    "driver.find_element(By.XPATH, x_path).click()\n",
    "\n",
    "time.sleep(1)\n",
    "\n",
    "x_path = '//*[@id=\"ui-id-9\"]/span[2]'   # Estilo de vida\n",
    "\n",
    "driver.find_element(By.XPATH, x_path).click()\n",
    "\n",
    "time.sleep(1)\n",
    "\n",
    "x_path = '//*[@id=\"ui-id-11\"]/span[2]'   # Estilo de vida\n",
    "\n",
    "driver.find_element(By.XPATH, x_path).click()\n",
    "\n",
    "time.sleep(1)\n",
    "\n",
    "x_path = '//*[@id=\"ui-id-26\"]'   # despleglable Años\n",
    "\n",
    "driver.find_element(By.XPATH, x_path).click()\n",
    "\n",
    "time.sleep(1)\n",
    "\n",
    "x_path = '//*[@id=\"year\"]/label[28]'   # 2017 \n",
    "\n",
    "driver.find_element(By.XPATH, x_path).click()\n",
    "\n",
    "time.sleep(1)\n",
    "\n",
    "x_path = '//*[@id=\"year\"]/label[29]'   # 2018  //*[@id=\"year\"]/label[29]\n",
    "\n",
    "driver.find_element(By.XPATH, x_path).click()\n",
    "\n",
    "time.sleep(1)\n",
    "\n",
    "x_path = '//*[@id=\"year\"]/label[30]'   # 2019 //*[@id=\"year\"]/label[30]\n",
    "\n",
    "driver.find_element(By.XPATH, x_path).click()\n",
    "\n",
    "time.sleep(1)\n",
    "\n",
    "x_path = '//*[@id=\"year\"]/label[31]'   # 2020 //*[@id=\"year\"]/label[31]\n",
    "\n",
    "driver.find_element(By.XPATH, x_path).click()\n",
    "\n",
    "time.sleep(1)\n",
    "\n",
    "x_path = '//*[@id=\"year\"]/label[32]'   # 2021 //*[@id=\"year\"]/label[32]\n",
    "\n",
    "driver.find_element(By.XPATH, x_path).click()\n",
    "\n",
    "time.sleep(1)\n",
    "\n",
    "x_path = '//*[@id=\"year\"]/label[34]' #\n",
    "\n",
    "driver.find_element(By.XPATH, x_path).click()\n",
    "\n",
    "time.sleep(1)\n",
    "\n",
    "x_path = '//*[@id=\"selection\"]/a[1]'   # Comenzar análisis\n",
    "\n",
    "driver.find_element(By.XPATH, x_path).click()\n",
    "\n",
    "time.sleep(4)\n"
   ]
  },
  {
   "cell_type": "code",
   "execution_count": 102,
   "metadata": {},
   "outputs": [
    {
     "data": {
      "text/plain": [
       "'86,56'"
      ]
     },
     "execution_count": 102,
     "metadata": {},
     "output_type": "execute_result"
    }
   ],
   "source": [
    "celda = driver.find_element(By.XPATH,f'//*[@id=\"DataTables_Table_0\"]/tbody/tr[1]/td[{i}]').text"
   ]
  },
  {
   "cell_type": "code",
   "execution_count": 92,
   "metadata": {},
   "outputs": [
    {
     "data": {
      "text/plain": [
       "''"
      ]
     },
     "execution_count": 92,
     "metadata": {},
     "output_type": "execute_result"
    }
   ],
   "source": [
    "tabla.text"
   ]
  },
  {
   "cell_type": "code",
   "execution_count": 105,
   "metadata": {},
   "outputs": [
    {
     "data": {
      "text/plain": [
       "'España (ES)'"
      ]
     },
     "execution_count": 105,
     "metadata": {},
     "output_type": "execute_result"
    }
   ],
   "source": [
    "driver.find_element(By.XPATH, '/html/body/div[1]/div[4]/div/div[4]/div[2]/div[1]/div/div/table/tbody/tr[1]/td[1]').text"
   ]
  },
  {
   "cell_type": "code",
   "execution_count": null,
   "metadata": {},
   "outputs": [],
   "source": [
    "tablas = {}\n",
    "def descargar_datos(driver):\n",
    "    i = 1\n",
    "    \n",
    "    while True:\n",
    "        try: \n",
    "            \n",
    "            # Descargar los datos de la tabla\n",
    "            \n",
    "            celda = driver.find_element(By.XPATH,f'//*[@id=\"DataTables_Table_0\"]/tbody/tr[1]/td[{i}]').text\n",
    "\n",
    "            # Guardar la tabla en el diccionario con el nombre del primer elemento\n",
    "            \n",
    "            tabla = driver.find_element(By.XPATH, f'/html/body/div[1]/div[4]/div/div[4]/div[2]/div[{i}]/div/div/table').text\n",
    "            nombre_tabla = tabla.split('\\n')[0]\n",
    "            tablas[nombre_tabla] = tabla\n",
    "            \n",
    "            # Click en la pestaña\n",
    "            \n",
    "            i += 1\n",
    "            x_path = f'/html/body/div[1]/div[4]/div/div[4]/div[2]/ul/li[{i}]'\n",
    "            driver.find_element(By.XPATH, x_path).click()\n",
    "            time.sleep(3)\n",
    "\n",
    "        except NoSuchElementException:\n",
    "            # Si no se encuentra el elemento, significa que hemos llegado al final de las pestañas = break\n",
    "            break\n",
    "\n",
    "    return tablas"
   ]
  },
  {
   "cell_type": "code",
   "execution_count": 106,
   "metadata": {},
   "outputs": [],
   "source": [
    "data = pd.read_excel('data\\Esperanza_de_vida_al_nacer (3).xls')"
   ]
  },
  {
   "cell_type": "code",
   "execution_count": null,
   "metadata": {},
   "outputs": [],
   "source": [
    "from src import funciones\n",
    "\n"
   ]
  }
 ],
 "metadata": {
  "kernelspec": {
   "display_name": "clase",
   "language": "python",
   "name": "python3"
  },
  "language_info": {
   "codemirror_mode": {
    "name": "ipython",
    "version": 3
   },
   "file_extension": ".py",
   "mimetype": "text/x-python",
   "name": "python",
   "nbconvert_exporter": "python",
   "pygments_lexer": "ipython3",
   "version": "3.11.5"
  }
 },
 "nbformat": 4,
 "nbformat_minor": 2
}
